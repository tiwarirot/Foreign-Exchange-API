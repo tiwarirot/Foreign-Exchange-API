{
 "cells": [
  {
   "cell_type": "code",
   "execution_count": 1,
   "metadata": {},
   "outputs": [],
   "source": [
    "import numpy as np\n",
    "import pandas as pd\n",
    "import os\n",
    "os.chdir('E:/Test/data-analyst-challenge-master')"
   ]
  },
  {
   "cell_type": "code",
   "execution_count": 51,
   "metadata": {},
   "outputs": [],
   "source": [
    "df = pd.read_json('orders_mini.json')\n",
    "df.head()"
   ]
  },
  {
   "cell_type": "code",
   "execution_count": 52,
   "metadata": {},
   "outputs": [
    {
     "data": {
      "text/html": [
       "<div>\n",
       "<style scoped>\n",
       "    .dataframe tbody tr th:only-of-type {\n",
       "        vertical-align: middle;\n",
       "    }\n",
       "\n",
       "    .dataframe tbody tr th {\n",
       "        vertical-align: top;\n",
       "    }\n",
       "\n",
       "    .dataframe thead th {\n",
       "        text-align: right;\n",
       "    }\n",
       "</style>\n",
       "<table border=\"1\" class=\"dataframe\">\n",
       "  <thead>\n",
       "    <tr style=\"text-align: right;\">\n",
       "      <th></th>\n",
       "      <th>id</th>\n",
       "      <th>customer</th>\n",
       "      <th>total_price</th>\n",
       "      <th>created_at</th>\n",
       "      <th>line_items</th>\n",
       "    </tr>\n",
       "  </thead>\n",
       "  <tbody>\n",
       "    <tr>\n",
       "      <td>0</td>\n",
       "      <td>8369263756632563</td>\n",
       "      <td>{'id': 47178, 'name': 'William Doe', 'email': ...</td>\n",
       "      <td>79.39</td>\n",
       "      <td>2020-03-07 14:31:11+00:00</td>\n",
       "      <td>[{'id': 610448, 'product_id': 632910392, 'prod...</td>\n",
       "    </tr>\n",
       "    <tr>\n",
       "      <td>1</td>\n",
       "      <td>7262170348080494</td>\n",
       "      <td>{'id': 94720, 'name': 'Emile Tumson', 'email':...</td>\n",
       "      <td>86.98</td>\n",
       "      <td>2020-03-01 09:16:30+00:00</td>\n",
       "      <td>[{'id': 997208, 'product_id': 278266679, 'prod...</td>\n",
       "    </tr>\n",
       "    <tr>\n",
       "      <td>2</td>\n",
       "      <td>7722055557038194</td>\n",
       "      <td>{'id': 59933, 'name': 'Ethan Jones', 'email': ...</td>\n",
       "      <td>36.99</td>\n",
       "      <td>2020-01-01 09:17:03+00:00</td>\n",
       "      <td>[{'id': 759658, 'product_id': 573794972, 'prod...</td>\n",
       "    </tr>\n",
       "    <tr>\n",
       "      <td>3</td>\n",
       "      <td>4280852170163518</td>\n",
       "      <td>{'id': 23955, 'name': 'Daniel Smith', 'email':...</td>\n",
       "      <td>55.98</td>\n",
       "      <td>2020-03-10 11:59:46+00:00</td>\n",
       "      <td>[{'id': 317808, 'product_id': 477365777, 'prod...</td>\n",
       "    </tr>\n",
       "    <tr>\n",
       "      <td>4</td>\n",
       "      <td>5058732129957127</td>\n",
       "      <td>{'id': 59933, 'name': 'Ethan Jones', 'email': ...</td>\n",
       "      <td>309.98</td>\n",
       "      <td>2020-03-15 07:27:24+00:00</td>\n",
       "      <td>[{'id': 604665, 'product_id': 510650809, 'prod...</td>\n",
       "    </tr>\n",
       "  </tbody>\n",
       "</table>\n",
       "</div>"
      ],
      "text/plain": [
       "                 id                                           customer  \\\n",
       "0  8369263756632563  {'id': 47178, 'name': 'William Doe', 'email': ...   \n",
       "1  7262170348080494  {'id': 94720, 'name': 'Emile Tumson', 'email':...   \n",
       "2  7722055557038194  {'id': 59933, 'name': 'Ethan Jones', 'email': ...   \n",
       "3  4280852170163518  {'id': 23955, 'name': 'Daniel Smith', 'email':...   \n",
       "4  5058732129957127  {'id': 59933, 'name': 'Ethan Jones', 'email': ...   \n",
       "\n",
       "   total_price                created_at  \\\n",
       "0        79.39 2020-03-07 14:31:11+00:00   \n",
       "1        86.98 2020-03-01 09:16:30+00:00   \n",
       "2        36.99 2020-01-01 09:17:03+00:00   \n",
       "3        55.98 2020-03-10 11:59:46+00:00   \n",
       "4       309.98 2020-03-15 07:27:24+00:00   \n",
       "\n",
       "                                          line_items  \n",
       "0  [{'id': 610448, 'product_id': 632910392, 'prod...  \n",
       "1  [{'id': 997208, 'product_id': 278266679, 'prod...  \n",
       "2  [{'id': 759658, 'product_id': 573794972, 'prod...  \n",
       "3  [{'id': 317808, 'product_id': 477365777, 'prod...  \n",
       "4  [{'id': 604665, 'product_id': 510650809, 'prod...  "
      ]
     },
     "execution_count": 52,
     "metadata": {},
     "output_type": "execute_result"
    }
   ],
   "source": [
    "df.rename(columns={'id':'data_id'}, inplace=True)\n",
    "df['created_at'] = df['created_at'].dt.date\n",
    "df_1 = df[['data_id','customer','total_price','created_at']]"
   ]
  },
  {
   "cell_type": "code",
   "execution_count": 53,
   "metadata": {},
   "outputs": [],
   "source": [
    "df_1 = pd.concat([df_1.drop(['customer'], axis=1), df_1['customer'].apply(pd.Series)], axis=1)\n",
    "df_2 = df[['data_id','line_items']]\n",
    "df_2 = pd.concat([df_2.drop(['line_items'], axis=1)\n",
    "                , df_2['line_items'].apply(lambda x:pd.Series(x[0] if len(x)>0 else {}))], axis=1)\n",
    "df_2.rename(columns={'id':'order_id'}, inplace=True)\n",
    "df_new = pd.concat([df_1, df_2], axis=1)\n",
    "df_new = df_new[['data_id','total_price','id','name','email','created_at','order_id','product_id','product_sku','product_name','price']]"
   ]
  },
  {
   "cell_type": "code",
   "execution_count": 68,
   "metadata": {},
   "outputs": [],
   "source": [
    "import requests\n",
    "url = 'https://api.exchangeratesapi.io/history?start_at=2020-01-01&end_at=2020-04-01&base=USD'\n",
    "response = requests.get(url)\n",
    "data = response.json()\n",
    "df_curr = pd.DataFrame(data)\n",
    "df_curr.head()"
   ]
  },
  {
   "cell_type": "code",
   "execution_count": 74,
   "metadata": {},
   "outputs": [],
   "source": [
    "df_curr['Order_Date'] = df_curr.index\n",
    "df_curr_1 = df_curr[['rates','base','Order_Date']]\n",
    "df_curr_1 = pd.concat([df_curr_1.drop(['rates'], axis=1), df_curr_1['rates'].apply(pd.Series)], axis=1)\n",
    "df_curr_1 = df_curr_1[['base', 'Order_Date','CAD']]\n",
    "df_curr_1['Order_Date'] = pd.to_datetime(df_curr_1['Order_Date']).dt.date\n",
    "df_final = df_new.merge(df_curr_1, left_on='created_at', right_on='Order_Date')\n",
    "df_final.to_excel('Final_Data.xlsx')"
   ]
  }
 ],
 "metadata": {
  "kernelspec": {
   "display_name": "Python 3",
   "language": "python",
   "name": "python3"
  },
  "language_info": {
   "codemirror_mode": {
    "name": "ipython",
    "version": 3
   },
   "file_extension": ".py",
   "mimetype": "text/x-python",
   "name": "python",
   "nbconvert_exporter": "python",
   "pygments_lexer": "ipython3",
   "version": "3.6.5"
  }
 },
 "nbformat": 4,
 "nbformat_minor": 2
}
